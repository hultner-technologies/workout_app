{
 "cells": [
  {
   "cell_type": "code",
   "execution_count": null,
   "id": "7f9f7c3c-1589-4c34-9e95-dcb7c555a046",
   "metadata": {},
   "outputs": [],
   "source": [
    "from sqlalchemy import create_engine"
   ]
  },
  {
   "cell_type": "code",
   "execution_count": null,
   "id": "3f03615f-11b4-48a9-905c-db9c5ff9fa49",
   "metadata": {},
   "outputs": [],
   "source": [
    "import pandas as pd\n",
    "import matplotlib.pyplot as plt\n",
    "import plotly.express as px"
   ]
  },
  {
   "cell_type": "code",
   "execution_count": null,
   "id": "c01827c3-1c7a-4fa7-ae99-1bcfc9fa28d1",
   "metadata": {},
   "outputs": [],
   "source": [
    "from pydantic import BaseSettings"
   ]
  },
  {
   "cell_type": "code",
   "execution_count": null,
   "id": "aa452ff0-77fd-4b86-85bc-b9a2568a8581",
   "metadata": {},
   "outputs": [],
   "source": [
    "class Settings(BaseSettings):\n",
    "    pg_dsn: str\n",
    "    \n",
    "    class Config:\n",
    "        env_file = '../.env'\n",
    "        env_file_encoding = 'utf-8'\n",
    "    \n"
   ]
  },
  {
   "cell_type": "code",
   "execution_count": null,
   "id": "132f4035-17ad-44eb-b4c4-4ddf2d2e31d4",
   "metadata": {},
   "outputs": [],
   "source": [
    "settings = Settings(_env_file='../.env.local')"
   ]
  },
  {
   "cell_type": "code",
   "execution_count": null,
   "id": "22401e8e-cafe-4db6-a992-c8411d51c4f6",
   "metadata": {},
   "outputs": [],
   "source": [
    "engine = create_engine(settings.pg_dsn)"
   ]
  },
  {
   "cell_type": "code",
   "execution_count": null,
   "id": "38500d00-0612-40c9-882c-cdf2c6ef3124",
   "metadata": {},
   "outputs": [],
   "source": [
    "df = pd.read_sql(\"select * from performed_exercise\", engine)"
   ]
  },
  {
   "cell_type": "code",
   "execution_count": null,
   "id": "52ad119e-d61c-4350-9083-d94d7436644a",
   "metadata": {},
   "outputs": [],
   "source": [
    "df.reset_index()\n",
    "df.set_index('completed_at', inplace=True)"
   ]
  },
  {
   "cell_type": "code",
   "execution_count": null,
   "id": "570f505d-5280-486c-927f-8be1fe94bf25",
   "metadata": {},
   "outputs": [],
   "source": [
    "(\n",
    "    df\n",
    "    .groupby('name')['weight']\n",
    "    .plot(\n",
    "        #x=\"completed_at\",\n",
    "        #y=\"weight\",\n",
    "        \n",
    "        legend=True,\n",
    "    )\n",
    ")\n",
    "plt.legend(bbox_to_anchor=(1.1, 1.05))\n",
    "#plt.figure(figsize=(16,16), dpi=380)\n",
    "fig = plt.gcf()\n",
    "fig.set_size_inches(18.5, 10.5, forward=True)"
   ]
  },
  {
   "cell_type": "code",
   "execution_count": null,
   "id": "7db1425e-b1f4-4b2e-93fc-7b7ed32c22e9",
   "metadata": {},
   "outputs": [],
   "source": [
    "df = pd.read_sql(\"\"\"\n",
    "    with vagg as (\n",
    "        select sum(volume_kg) as agg_volume_kg,\n",
    "               performed_session_id,\n",
    "               array_agg(performed_exercise_id) as performed_exercise_id\n",
    "        from exercise_stats\n",
    "        where session_name = 'Biceps, triceps, back'\n",
    "        group by name, performed_session_id\n",
    "    )\n",
    "    select *, vagg.performed_exercise_id[1] from vagg\n",
    "    join exercise_stats es on vagg.performed_exercise_id[1]=es.performed_exercise_id\n",
    "\"\"\", engine)\n",
    "df.set_index('date', inplace=True)\n",
    "(\n",
    "    df\n",
    "    .groupby('name')['agg_volume_kg']\n",
    "    .plot(\n",
    "        #x=\"completed_at\",\n",
    "        #y=\"weight\",\n",
    "        \n",
    "        legend=True,\n",
    "    )\n",
    ")\n",
    "\n",
    "plt.legend(bbox_to_anchor=(1.1, 1.05))\n",
    "fig = plt.gcf()\n",
    "fig.set_size_inches(18.5, 10.5, forward=True)"
   ]
  },
  {
   "cell_type": "code",
   "execution_count": null,
   "id": "dc8c58ef-256d-4f22-9813-0a02356b29a5",
   "metadata": {},
   "outputs": [],
   "source": [
    "df = pd.read_sql(\"\"\"\n",
    "    with vagg as (\n",
    "        select sum(volume_kg) as agg_volume_kg,\n",
    "               performed_session_id,\n",
    "               array_agg(performed_exercise_id) as performed_exercise_id\n",
    "        from exercise_stats\n",
    "        where session_name = 'Legs, pickup'\n",
    "        group by name, performed_session_id\n",
    "    )\n",
    "    select *, vagg.performed_exercise_id[1] from vagg\n",
    "    join exercise_stats es on vagg.performed_exercise_id[1]=es.performed_exercise_id\n",
    "\"\"\", engine)\n",
    "df.set_index('date', inplace=True)\n",
    "(\n",
    "    df\n",
    "    .groupby('name')['agg_volume_kg']\n",
    "    .plot(\n",
    "        #x=\"completed_at\",\n",
    "        #y=\"weight\",\n",
    "        \n",
    "        legend=True,\n",
    "    )\n",
    ")\n",
    "\n",
    "plt.legend(bbox_to_anchor=(1.1, 1.05))\n",
    "fig = plt.gcf()\n",
    "fig.set_size_inches(18.5, 10.5, forward=True)"
   ]
  },
  {
   "cell_type": "code",
   "execution_count": null,
   "id": "c384bb9b-24a5-4677-af08-2f3f58c6683c",
   "metadata": {},
   "outputs": [],
   "source": [
    "df = pd.read_sql(\"\"\"\n",
    "    with vagg as (\n",
    "        select sum(volume_kg) as agg_volume_kg,\n",
    "               performed_session_id,\n",
    "               array_agg(performed_exercise_id) as performed_exercise_id\n",
    "        from exercise_stats\n",
    "        where session_name = 'Chest, shoulders, abs'\n",
    "        group by name, performed_session_id\n",
    "    )\n",
    "    select *, vagg.performed_exercise_id[1] from vagg\n",
    "    join exercise_stats es on vagg.performed_exercise_id[1]=es.performed_exercise_id\n",
    "\"\"\", engine)\n",
    "df.set_index('date', inplace=True)\n",
    "(\n",
    "    df\n",
    "    .groupby('name')['agg_volume_kg']\n",
    "    .plot(\n",
    "        #x=\"completed_at\",\n",
    "        #y=\"weight\",\n",
    "        \n",
    "        legend=True,\n",
    "    )\n",
    ")\n",
    "\n",
    "plt.legend(bbox_to_anchor=(1.1, 1.05))\n",
    "fig = plt.gcf()\n",
    "fig.set_size_inches(18.5, 10.5, forward=True)"
   ]
  },
  {
   "cell_type": "code",
   "execution_count": null,
   "id": "a4423ff0-9c69-4867-b265-dd83e2a81543",
   "metadata": {},
   "outputs": [],
   "source": [
    "df = pd.read_sql(\"select * from performed_exercise\", engine)\n",
    "\n",
    "#df.set_index('completed_at', inplace=True)\n",
    "for name, exercise in df.groupby('name'):\n",
    "    fig = px.scatter(\n",
    "        exercise,\n",
    "        x=\"completed_at\",\n",
    "        y=\"weight\",\n",
    "        title=name,\n",
    "        trendline=\"lowess\",\n",
    "    )\n",
    "    fig.show()\n",
    "\n",
    "    #plt.legend(bbox_to_anchor=(1.1, 1.05))\n",
    "    #plt.figure(figsize=(16,16), dpi=380)›\n",
    "    #fig = plt.gcf()\n",
    "    #fig.set_size_inches(18.5, 10.5, forward=True)"
   ]
  },
  {
   "cell_type": "code",
   "execution_count": null,
   "id": "fceeba21-2aaa-48a4-86d7-771a52d15c76",
   "metadata": {},
   "outputs": [],
   "source": [
    "df = pd.read_sql(\"select * from performed_exercise\", engine)\n",
    "\n",
    "#df.set_index('completed_at', inplace=True)\n",
    "#dir(\n",
    "#list(df.groupby('name'))[0][0]\n",
    "#)\n",
    "\n",
    "list(df.name)"
   ]
  },
  {
   "cell_type": "code",
   "execution_count": null,
   "id": "8a7d1522-ddc3-45d8-bd0b-e0009b161744",
   "metadata": {},
   "outputs": [],
   "source": [
    "df = pd.read_sql(\"select * from exercise_stats\", engine)\n",
    "\n",
    "#df.set_index('completed_at', inplace=True)\n",
    "for name, exercise in df.groupby('name'):\n",
    "    fig = px.scatter(\n",
    "        exercise,\n",
    "        x=\"completed_at\",\n",
    "        y=\"brzycki_1_rm_max\",\n",
    "        title=name,\n",
    "        trendline=\"lowess\",\n",
    "    )\n",
    "    fig.show()"
   ]
  },
  {
   "cell_type": "code",
   "execution_count": null,
   "id": "61de4da1-7ac6-49f2-9535-3dc00372df0a",
   "metadata": {},
   "outputs": [],
   "source": []
  },
  {
   "cell_type": "code",
   "execution_count": null,
   "id": "719e8aec-a0f9-4a29-a79d-22e65156935c",
   "metadata": {},
   "outputs": [],
   "source": []
  }
 ],
 "metadata": {
  "kernelspec": {
   "display_name": "Python 3 (ipykernel)",
   "language": "python",
   "name": "python3"
  },
  "language_info": {
   "codemirror_mode": {
    "name": "ipython",
    "version": 3
   },
   "file_extension": ".py",
   "mimetype": "text/x-python",
   "name": "python",
   "nbconvert_exporter": "python",
   "pygments_lexer": "ipython3",
   "version": "3.10.8"
  }
 },
 "nbformat": 4,
 "nbformat_minor": 5
}
